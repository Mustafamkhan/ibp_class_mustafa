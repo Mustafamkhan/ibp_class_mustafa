{
  "nbformat": 4,
  "nbformat_minor": 0,
  "metadata": {
    "colab": {
      "provenance": [],
      "authorship_tag": "ABX9TyNOMHc/5L9fR5UMhxV7dJeQ",
      "include_colab_link": true
    },
    "kernelspec": {
      "name": "python3",
      "display_name": "Python 3"
    },
    "language_info": {
      "name": "python"
    }
  },
  "cells": [
    {
      "cell_type": "markdown",
      "metadata": {
        "id": "view-in-github",
        "colab_type": "text"
      },
      "source": [
        "<a href=\"https://colab.research.google.com/github/Mustafamkhan/ibp_class_mustafa/blob/main/ibp_class_1.ipynb\" target=\"_parent\"><img src=\"https://colab.research.google.com/assets/colab-badge.svg\" alt=\"Open In Colab\"/></a>"
      ]
    },
    {
      "cell_type": "code",
      "execution_count": null,
      "metadata": {
        "colab": {
          "base_uri": "https://localhost:8080/"
        },
        "id": "sry6i3QDp9J4",
        "outputId": "1afcd57d-a2c8-486a-9c41-f56451adf58c"
      },
      "outputs": [
        {
          "output_type": "stream",
          "name": "stdout",
          "text": [
            "We are learning python\n"
          ]
        }
      ],
      "source": [
        "print('We are learning python')"
      ]
    },
    {
      "cell_type": "code",
      "source": [
        "# variable\n",
        "x = 9\n",
        "x = x * 3\n",
        "x = x / 9\n",
        "print (x)"
      ],
      "metadata": {
        "colab": {
          "base_uri": "https://localhost:8080/"
        },
        "id": "QY28J--KrirA",
        "outputId": "8aa5e9bd-2971-4cf2-cbed-397088ff2d0b"
      },
      "execution_count": null,
      "outputs": [
        {
          "output_type": "stream",
          "name": "stdout",
          "text": [
            "3.0\n"
          ]
        }
      ]
    },
    {
      "cell_type": "code",
      "source": [
        "type (x)"
      ],
      "metadata": {
        "colab": {
          "base_uri": "https://localhost:8080/"
        },
        "id": "8XSjOmVLsNbP",
        "outputId": "e908706f-8097-47e9-e2d3-96f27305d8e9"
      },
      "execution_count": null,
      "outputs": [
        {
          "output_type": "execute_result",
          "data": {
            "text/plain": [
              "float"
            ]
          },
          "metadata": {},
          "execution_count": 9
        }
      ]
    },
    {
      "cell_type": "code",
      "source": [
        "dict = {\"Mustafa\" : \"Male\" : \"CNIC\" : \"1234\"}\n"
      ],
      "metadata": {
        "colab": {
          "base_uri": "https://localhost:8080/",
          "height": 106
        },
        "id": "X_StqBUytbSH",
        "outputId": "7e4dcc39-1d59-423e-ec5c-75afcc2a4dee"
      },
      "execution_count": null,
      "outputs": [
        {
          "output_type": "error",
          "ename": "SyntaxError",
          "evalue": "invalid syntax (<ipython-input-11-4f6d4abe64e7>, line 1)",
          "traceback": [
            "\u001b[0;36m  File \u001b[0;32m\"<ipython-input-11-4f6d4abe64e7>\"\u001b[0;36m, line \u001b[0;32m1\u001b[0m\n\u001b[0;31m    dict = {\"Mustafa\" : \"Male\" : \"CNIC\" : \"1234\"}\u001b[0m\n\u001b[0m                               ^\u001b[0m\n\u001b[0;31mSyntaxError\u001b[0m\u001b[0;31m:\u001b[0m invalid syntax\n"
          ]
        }
      ]
    },
    {
      "cell_type": "code",
      "source": [
        "dict_one = {\"Mustafa\":\"Male\",\"CNIC\":\"1234\"}"
      ],
      "metadata": {
        "id": "tiI7g7qcwVTJ"
      },
      "execution_count": null,
      "outputs": []
    },
    {
      "cell_type": "code",
      "source": [
        "print(dict_one)"
      ],
      "metadata": {
        "colab": {
          "base_uri": "https://localhost:8080/"
        },
        "id": "upiO4PF7wQpl",
        "outputId": "051e937c-0705-4eac-8800-b2b1e9ecffd2"
      },
      "execution_count": null,
      "outputs": [
        {
          "output_type": "stream",
          "name": "stdout",
          "text": [
            "{'Mustafa': 'Male', 'CNIC': '1234'}\n"
          ]
        }
      ]
    },
    {
      "cell_type": "code",
      "source": [
        "dict_two = {\"Name\":\"Mustafa\",\"Age\":\"35\"}\n",
        "print(dict_two)"
      ],
      "metadata": {
        "colab": {
          "base_uri": "https://localhost:8080/"
        },
        "id": "uwZMyPbKwzO6",
        "outputId": "dd539647-723c-4b3e-ab83-b1a2970f6da2"
      },
      "execution_count": null,
      "outputs": [
        {
          "output_type": "stream",
          "name": "stdout",
          "text": [
            "{'Name': 'Mustafa', 'Age': '35'}\n"
          ]
        }
      ]
    },
    {
      "cell_type": "code",
      "source": [
        "dict_three = {\"Name\":\"Mustafa\", \"Office\":\"Al Meezan\",\"Area\":\"Karachi\"}\n",
        "print(dict_three)"
      ],
      "metadata": {
        "colab": {
          "base_uri": "https://localhost:8080/"
        },
        "id": "vrZF8PlNxGj3",
        "outputId": "627d6c21-2d73-4676-ff84-a3fed5f88419"
      },
      "execution_count": null,
      "outputs": [
        {
          "output_type": "stream",
          "name": "stdout",
          "text": [
            "{'Name': 'Mustafa', 'Office': 'Al Meezan', 'Area': 'Karachi'}\n"
          ]
        }
      ]
    },
    {
      "cell_type": "code",
      "source": [
        "dict_four = {\"Name\":\"Mustafa\", \"Marital status\":\"Married\"}\n",
        "print(dict_four)"
      ],
      "metadata": {
        "colab": {
          "base_uri": "https://localhost:8080/"
        },
        "id": "qibGefOexJvl",
        "outputId": "dffa29cc-bc80-4b48-ecf2-86991ebceba8"
      },
      "execution_count": null,
      "outputs": [
        {
          "output_type": "stream",
          "name": "stdout",
          "text": [
            "{'Name': 'Mustafa', 'Marital status': 'Married'}\n"
          ]
        }
      ]
    },
    {
      "cell_type": "code",
      "source": [
        "dict_five = {\"Name\":\"Mustafa\",\"Education\":\"CFA\"}\n",
        "print(dict_five)"
      ],
      "metadata": {
        "colab": {
          "base_uri": "https://localhost:8080/"
        },
        "id": "aNcGDzzBxppT",
        "outputId": "2cc84cb2-0972-4fc1-d6be-0255916d3e73"
      },
      "execution_count": null,
      "outputs": [
        {
          "output_type": "stream",
          "name": "stdout",
          "text": [
            "{'Name': 'Mustafa', 'Education': 'CFA'}\n"
          ]
        }
      ]
    },
    {
      "cell_type": "code",
      "source": [
        "print(dict_one),(dict_two),(dict_three),(dict_four),(dict_five)"
      ],
      "metadata": {
        "colab": {
          "base_uri": "https://localhost:8080/"
        },
        "id": "DsZdWdQQxsNU",
        "outputId": "ab9cb3f4-3c34-4e4b-8ee6-2158163bf9a0"
      },
      "execution_count": null,
      "outputs": [
        {
          "output_type": "stream",
          "name": "stdout",
          "text": [
            "{'Mustafa': 'Male', 'CNIC': '1234'}\n"
          ]
        },
        {
          "output_type": "execute_result",
          "data": {
            "text/plain": [
              "(None,\n",
              " {'Name': 'Mustafa', 'Age': '35'},\n",
              " {'Name': 'Mustafa', 'Office': 'Al Meezan', 'Area': 'Karachi'},\n",
              " {'Name': 'Mustafa', 'Marital status': 'Married'},\n",
              " {'Name': 'Mustafa', 'Education': 'CFA'})"
            ]
          },
          "metadata": {},
          "execution_count": 24
        }
      ]
    },
    {
      "cell_type": "code",
      "source": [
        "x = \"hello world\"\n",
        "print('d'in x)"
      ],
      "metadata": {
        "colab": {
          "base_uri": "https://localhost:8080/"
        },
        "id": "wjh-al5eyJWF",
        "outputId": "a2754402-4f40-4b0e-e3e0-5ed61e58ce6a"
      },
      "execution_count": null,
      "outputs": [
        {
          "output_type": "stream",
          "name": "stdout",
          "text": [
            "True\n"
          ]
        }
      ]
    },
    {
      "cell_type": "code",
      "source": [
        "bin(5)"
      ],
      "metadata": {
        "colab": {
          "base_uri": "https://localhost:8080/",
          "height": 35
        },
        "id": "vWp9jkrF24ZM",
        "outputId": "9424d311-f936-4806-d9ba-5a64aa79500c"
      },
      "execution_count": null,
      "outputs": [
        {
          "output_type": "execute_result",
          "data": {
            "text/plain": [
              "'0b101'"
            ],
            "application/vnd.google.colaboratory.intrinsic+json": {
              "type": "string"
            }
          },
          "metadata": {},
          "execution_count": 26
        }
      ]
    },
    {
      "cell_type": "code",
      "source": [
        "bin(3)"
      ],
      "metadata": {
        "colab": {
          "base_uri": "https://localhost:8080/",
          "height": 35
        },
        "id": "P0lXdtkp4F2l",
        "outputId": "ff18e830-a371-4fc8-b205-f0900c874bdd"
      },
      "execution_count": null,
      "outputs": [
        {
          "output_type": "execute_result",
          "data": {
            "text/plain": [
              "'0b11'"
            ],
            "application/vnd.google.colaboratory.intrinsic+json": {
              "type": "string"
            }
          },
          "metadata": {},
          "execution_count": 27
        }
      ]
    },
    {
      "cell_type": "code",
      "source": [
        "print(5&3)"
      ],
      "metadata": {
        "colab": {
          "base_uri": "https://localhost:8080/"
        },
        "id": "tLpzduov4Ix2",
        "outputId": "14216150-4d9f-47fe-a470-51b26a5405f8"
      },
      "execution_count": null,
      "outputs": [
        {
          "output_type": "stream",
          "name": "stdout",
          "text": [
            "1\n"
          ]
        }
      ]
    },
    {
      "cell_type": "code",
      "source": [
        "print(4&3)"
      ],
      "metadata": {
        "colab": {
          "base_uri": "https://localhost:8080/"
        },
        "id": "8PwAO8J99PPv",
        "outputId": "50addffc-292d-4a17-a7d8-7fbb20ca1c93"
      },
      "execution_count": null,
      "outputs": [
        {
          "output_type": "stream",
          "name": "stdout",
          "text": [
            "0\n"
          ]
        }
      ]
    },
    {
      "cell_type": "code",
      "source": [
        "print(5&4)"
      ],
      "metadata": {
        "colab": {
          "base_uri": "https://localhost:8080/"
        },
        "id": "glW-Rp0G9bKd",
        "outputId": "f84469f7-e050-4db8-8ed2-b0e36e7452d2"
      },
      "execution_count": null,
      "outputs": [
        {
          "output_type": "stream",
          "name": "stdout",
          "text": [
            "4\n"
          ]
        }
      ]
    },
    {
      "cell_type": "code",
      "source": [
        "bin(1)"
      ],
      "metadata": {
        "colab": {
          "base_uri": "https://localhost:8080/",
          "height": 35
        },
        "id": "pOUW_2Sm9dmL",
        "outputId": "556ea1f1-1ec7-446a-fd1b-25130620355f"
      },
      "execution_count": null,
      "outputs": [
        {
          "output_type": "execute_result",
          "data": {
            "text/plain": [
              "'0b1'"
            ],
            "application/vnd.google.colaboratory.intrinsic+json": {
              "type": "string"
            }
          },
          "metadata": {},
          "execution_count": 31
        }
      ]
    },
    {
      "cell_type": "code",
      "source": [
        "age = int(input(\"Enter number: \"))\n",
        "if age < 12:\n",
        "  print('Cannot smoke')\n",
        "else:\n",
        "  print('Who are you')"
      ],
      "metadata": {
        "colab": {
          "base_uri": "https://localhost:8080/"
        },
        "id": "RTEIj-uI-CBr",
        "outputId": "bbbcf7fd-8296-4681-d4e1-bf03ddd50ccf"
      },
      "execution_count": null,
      "outputs": [
        {
          "output_type": "stream",
          "name": "stdout",
          "text": [
            "Enter number: 15\n",
            "Who are you\n"
          ]
        }
      ]
    },
    {
      "cell_type": "code",
      "source": [
        "stock_price = float(input('Enter Value: '))\n",
        "if stock_price > 20:\n",
        "  print(stock_price + 20)\n",
        "else:\n",
        "  print(stock_price - 20)\n"
      ],
      "metadata": {
        "colab": {
          "base_uri": "https://localhost:8080/"
        },
        "id": "oXUtNWCpA2zZ",
        "outputId": "487b60ff-297f-40fc-cb20-e659073a7ff8"
      },
      "execution_count": null,
      "outputs": [
        {
          "output_type": "stream",
          "name": "stdout",
          "text": [
            "Enter Value: 15\n",
            "-5.0\n"
          ]
        }
      ]
    },
    {
      "cell_type": "code",
      "source": [
        "age = int(input(\"Enter number: \"))\n",
        "if age < 100:\n",
        "  print(10 - age)\n",
        "else:\n",
        "  print(age)"
      ],
      "metadata": {
        "colab": {
          "base_uri": "https://localhost:8080/"
        },
        "id": "xnpgbO-mB9gE",
        "outputId": "e77d935f-e2e8-43c4-bd69-faa923d1616e"
      },
      "execution_count": null,
      "outputs": [
        {
          "output_type": "stream",
          "name": "stdout",
          "text": [
            "Enter number: 80\n",
            "-70\n"
          ]
        }
      ]
    },
    {
      "cell_type": "code",
      "source": [
        "cost = int(input(\"Enter cost: \"))\n",
        "if cost > 0:\n",
        "  print (\"Your profit is:\",0.2 * cost)\n",
        "else:\n",
        "  print(\"Your loss is:\",cost)"
      ],
      "metadata": {
        "colab": {
          "base_uri": "https://localhost:8080/"
        },
        "id": "be0IinnzCswg",
        "outputId": "ec5e144d-9086-4007-af4a-c760202ddd94"
      },
      "execution_count": null,
      "outputs": [
        {
          "output_type": "stream",
          "name": "stdout",
          "text": [
            "Enter cost: 30\n",
            "Your profit is: 6.0\n"
          ]
        }
      ]
    },
    {
      "cell_type": "code",
      "source": [
        "for i in range (1,11):\n",
        "  print(i, \"multiplied by 5 is\", i*5)"
      ],
      "metadata": {
        "colab": {
          "base_uri": "https://localhost:8080/"
        },
        "id": "IpZNobPaEHU-",
        "outputId": "0213428f-ea61-483c-a8df-384758c18848"
      },
      "execution_count": null,
      "outputs": [
        {
          "output_type": "stream",
          "name": "stdout",
          "text": [
            "1 multiplied by 5 is 5\n",
            "2 multiplied by 5 is 10\n",
            "3 multiplied by 5 is 15\n",
            "4 multiplied by 5 is 20\n",
            "5 multiplied by 5 is 25\n",
            "6 multiplied by 5 is 30\n",
            "7 multiplied by 5 is 35\n",
            "8 multiplied by 5 is 40\n",
            "9 multiplied by 5 is 45\n",
            "10 multiplied by 5 is 50\n"
          ]
        }
      ]
    },
    {
      "cell_type": "code",
      "source": [
        "i = 0\n",
        "while i < 5:\n",
        "  if i == 3:\n",
        "    break\n",
        "  print(i)\n",
        "  i = i + 5"
      ],
      "metadata": {
        "colab": {
          "base_uri": "https://localhost:8080/"
        },
        "id": "z4KiIcHiGaJT",
        "outputId": "26a4cce6-ddd7-4914-ea7b-f95f768560a1"
      },
      "execution_count": 3,
      "outputs": [
        {
          "output_type": "stream",
          "name": "stdout",
          "text": [
            "0\n"
          ]
        }
      ]
    },
    {
      "cell_type": "code",
      "source": [
        "def tax_cal(tx,tr,x):\n",
        "  if tx > tr*x:\n",
        "    print('You are dishonest')\n",
        "  else:\n",
        "    print('You are an honest taxpayer')"
      ],
      "metadata": {
        "id": "dJ4dQS9yJ3X0"
      },
      "execution_count": null,
      "outputs": []
    },
    {
      "cell_type": "code",
      "source": [
        "tax_cal(12,0.2,120)"
      ],
      "metadata": {
        "colab": {
          "base_uri": "https://localhost:8080/"
        },
        "id": "fUXQZvXjMCRK",
        "outputId": "ab6d4ec7-fd0d-420a-b534-55e30693f44b"
      },
      "execution_count": null,
      "outputs": [
        {
          "output_type": "stream",
          "name": "stdout",
          "text": [
            "You are an honest taxpayer\n"
          ]
        }
      ]
    },
    {
      "cell_type": "code",
      "source": [
        "def g_t(x):\n",
        "  if x == 'Male':\n",
        "    return 0\n",
        "  elif x == 'Transgender':\n",
        "    return 2\n",
        "  elif x == 'Female':\n",
        "    return 1\n",
        "  else:\n",
        "    print('You are an alien')"
      ],
      "metadata": {
        "id": "vOmkfv1fMOlp"
      },
      "execution_count": null,
      "outputs": []
    },
    {
      "cell_type": "code",
      "source": [
        "g_t('Hello')"
      ],
      "metadata": {
        "colab": {
          "base_uri": "https://localhost:8080/"
        },
        "id": "Yzsd3Ch6NCIV",
        "outputId": "8d37e084-d5d3-4587-d748-2ebb3ab6821b"
      },
      "execution_count": null,
      "outputs": [
        {
          "output_type": "stream",
          "name": "stdout",
          "text": [
            "You are an alien\n"
          ]
        }
      ]
    },
    {
      "cell_type": "code",
      "source": [],
      "metadata": {
        "id": "MtGpLuu2NH1H"
      },
      "execution_count": null,
      "outputs": []
    }
  ]
}